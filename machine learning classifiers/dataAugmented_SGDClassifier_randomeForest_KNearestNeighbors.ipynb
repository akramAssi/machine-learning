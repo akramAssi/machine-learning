{
 "cells": [
  {
   "cell_type": "code",
   "execution_count": 1,
   "metadata": {},
   "outputs": [],
   "source": [
    "from sklearn.datasets import fetch_openml\n",
    "import numpy as np\n",
    "import matplotlib as mpl\n",
    "import matplotlib.pyplot as plt\n",
    "from scipy.ndimage.interpolation import shift\n",
    "from sklearn.preprocessing import StandardScaler\n",
    "from sklearn.linear_model import SGDClassifier\n",
    "from sklearn.model_selection import cross_val_predict\n",
    "from sklearn.model_selection import cross_val_score\n",
    "from sklearn.neighbors import KNeighborsClassifier"
   ]
  },
  {
   "cell_type": "code",
   "execution_count": 2,
   "metadata": {},
   "outputs": [
    {
     "name": "stdout",
     "output_type": "stream",
     "text": [
      "time for fetch\n",
      "CPU times: user 1min 5s, sys: 2.43 s, total: 1min 7s\n",
      "Wall time: 1min 8s\n"
     ]
    }
   ],
   "source": [
    "%%time\n",
    "mnist = fetch_openml('mnist_784', version=1,cache=True)\n",
    "mnist.keys()\n",
    "print(\"time for fetch\")"
   ]
  },
  {
   "cell_type": "code",
   "execution_count": 3,
   "metadata": {},
   "outputs": [
    {
     "data": {
      "text/plain": [
       "(70000, 784)"
      ]
     },
     "execution_count": 3,
     "metadata": {},
     "output_type": "execute_result"
    }
   ],
   "source": [
    "X, y = mnist[\"data\"], mnist[\"target\"]\n",
    "X.shape"
   ]
  },
  {
   "cell_type": "code",
   "execution_count": 4,
   "metadata": {},
   "outputs": [
    {
     "data": {
      "image/png": "[encoded data removed]",
      "text/plain": [
       "<Figure size 432x288 with 1 Axes>"
      ]
     },
     "metadata": {
      "needs_background": "light"
     },
     "output_type": "display_data"
    }
   ],
   "source": [
    "some_digit = X[0]\n",
    "some_digit_image = some_digit.reshape(28, 28)\n",
    "plt.imshow(some_digit_image, cmap = mpl.cm.binary, interpolation=\"nearest\")\n",
    "plt.axis(\"off\")\n",
    "plt.show()"
   ]
  },
  {
   "cell_type": "code",
   "execution_count": 5,
   "metadata": {},
   "outputs": [],
   "source": [
    "def shiftx(img,n_sh,dire):\n",
    "    \"\"\"\n",
    "    function to shift image in four direction right or left or up or down\n",
    "    :param img is image need to shift \n",
    "    :param n_sh is number need to shift\n",
    "    :param dire is direction to shift\n",
    "    \"\"\"\n",
    "    \n",
    "    img_n=img.reshape(28,28)\n",
    "    row,col =img_n.shape\n",
    "    iimg = np.zeros([row,col])\n",
    "    \n",
    "    if dire== 'r':\n",
    "        for i in range(row):\n",
    "            for j in range(col-n_sh):\n",
    "                iimg[i][j+n_sh]=img_n[i][j]\n",
    "                \n",
    "    elif dire=='l':\n",
    "        for i in range(row):\n",
    "            for j in range(col-n_sh):\n",
    "                iimg[i][j]=img_n[i][j+n_sh]\n",
    "                \n",
    "    elif dire=='u':\n",
    "        for i in range(row-n_sh):\n",
    "            for j in range(col):\n",
    "                iimg[i+n_sh][j]=img_n[i][j]\n",
    "    elif dire=='d':\n",
    "        for i in range(row-n_sh):\n",
    "            for j in range(col):\n",
    "                iimg[i][j]=img_n[i+n_sh][j]\n",
    "                \n",
    "    else:\n",
    "        raise RuntimeError(\"please enter 'l' to left  or 'r' to right or 'd'to down or 'u' to up \")\n",
    "        return None\n",
    "    \n",
    "    return iimg.reshape([-1])"
   ]
  },
  {
   "cell_type": "code",
   "execution_count": 6,
   "metadata": {},
   "outputs": [
    {
     "name": "stdout",
     "output_type": "stream",
     "text": [
      "CPU times: user 0 ns, sys: 0 ns, total: 0 ns\n",
      "Wall time: 1.33 ms\n"
     ]
    }
   ],
   "source": [
    "%%time\n",
    "xxc=shiftx(some_digit,10,'u')\n",
    "# shift(some_digit,10,'u').shape"
   ]
  },
  {
   "cell_type": "code",
   "execution_count": 7,
   "metadata": {},
   "outputs": [
    {
     "data": {
      "text/plain": [
       "<matplotlib.image.AxesImage at 0x7fdf229ac668>"
      ]
     },
     "execution_count": 7,
     "metadata": {},
     "output_type": "execute_result"
    },
    {
     "data": {
      "image/png": "[encoded data removed]",
      "text/plain": [
       "<Figure size 432x288 with 1 Axes>"
      ]
     },
     "metadata": {
      "needs_background": "light"
     },
     "output_type": "display_data"
    }
   ],
   "source": [
    "plt.imshow(xxc.reshape(28,28), cmap = mpl.cm.binary, interpolation=\"nearest\")"
   ]
  },
  {
   "cell_type": "code",
   "execution_count": 8,
   "metadata": {},
   "outputs": [],
   "source": [
    "def shift_image(image, dx, dy):\n",
    "    image = image.reshape((28, 28))\n",
    "    shifted_image = shift(image, [dy, dx], cval=0, mode=\"constant\")\n",
    "    return shifted_image.reshape([-1])"
   ]
  },
  {
   "cell_type": "code",
   "execution_count": 9,
   "metadata": {},
   "outputs": [
    {
     "name": "stdout",
     "output_type": "stream",
     "text": [
      "CPU times: user 0 ns, sys: 0 ns, total: 0 ns\n",
      "Wall time: 1.3 ms\n"
     ]
    }
   ],
   "source": [
    "%%time\n",
    "xx=shift_image(some_digit,-10,0)\n",
    "# plt.imshow(xx.reshape(28,28), cmap = mpl.cm.binary, interpolation=\"nearest\")"
   ]
  },
  {
   "cell_type": "code",
   "execution_count": 10,
   "metadata": {},
   "outputs": [
    {
     "data": {
      "text/plain": [
       "<matplotlib.image.AxesImage at 0x7fdf22663588>"
      ]
     },
     "execution_count": 10,
     "metadata": {},
     "output_type": "execute_result"
    },
    {
     "data": {
      "image/png": "[encoded data removed]",
      "text/plain": [
       "<Figure size 432x288 with 1 Axes>"
      ]
     },
     "metadata": {
      "needs_background": "light"
     },
     "output_type": "display_data"
    }
   ],
   "source": [
    "plt.imshow(xx.reshape(28,28), cmap = mpl.cm.binary, interpolation=\"nearest\")"
   ]
  },
  {
   "cell_type": "code",
   "execution_count": 11,
   "metadata": {},
   "outputs": [],
   "source": [
    "X_train, X_test, y_train, y_test = X[:60000], X[60000:], y[:60000], y[60000:]"
   ]
  },
  {
   "cell_type": "code",
   "execution_count": 12,
   "metadata": {},
   "outputs": [
    {
     "name": "stdout",
     "output_type": "stream",
     "text": [
      "CPU times: user 4min 10s, sys: 3.71 s, total: 4min 14s\n",
      "Wall time: 4min 17s\n"
     ]
    }
   ],
   "source": [
    "%%time\n",
    "ext_x1 = [img for img in X_train]\n",
    "ext_y1= [label for label in y_train]\n",
    "for i in range(len(X_train)):\n",
    "    ext_x1.append(shiftx(X_train[i],1,'r'))\n",
    "    ext_y1.append(y_train[i])\n",
    "    ext_x1.append(shiftx(X_train[i],1,'l'))\n",
    "    ext_y1.append(y_train[i])\n",
    "    ext_x1.append(shiftx(X_train[i],1,'u'))\n",
    "    ext_y1.append(y_train[i])\n",
    "    ext_x1.append(shiftx(X_train[i],1,'d'))\n",
    "    ext_y1.append(y_train[i])"
   ]
  },
  {
   "cell_type": "code",
   "execution_count": 13,
   "metadata": {},
   "outputs": [
    {
     "data": {
      "text/plain": [
       "300000"
      ]
     },
     "execution_count": 13,
     "metadata": {},
     "output_type": "execute_result"
    }
   ],
   "source": [
    "len(ext_y1)"
   ]
  },
  {
   "cell_type": "code",
   "execution_count": 14,
   "metadata": {},
   "outputs": [
    {
     "name": "stdout",
     "output_type": "stream",
     "text": [
      "time is take for data augmentation \n",
      "CPU times: user 1min 48s, sys: 3.39 s, total: 1min 51s\n",
      "Wall time: 1min 53s\n"
     ]
    }
   ],
   "source": [
    "%%time\n",
    "ext_x = [img for img in X_train]\n",
    "ext_y= [label for label in y_train]\n",
    "\n",
    "for i, j in ((-1, 0), (0,-1), (0, 1), (1, 0)):\n",
    "    for img, label in zip(X_train, y_train):\n",
    "        ext_x.append(shift_image(img, i, j))\n",
    "        ext_y.append(label)\n",
    "print(\"time is take for data augmentation \")"
   ]
  },
  {
   "cell_type": "code",
   "execution_count": 15,
   "metadata": {},
   "outputs": [],
   "source": [
    "ext_x1 = np.array(ext_x1)\n",
    "ext_y1 = np.array(ext_y1)"
   ]
  },
  {
   "cell_type": "code",
   "execution_count": 16,
   "metadata": {},
   "outputs": [
    {
     "data": {
      "text/plain": [
       "(300000, 784)"
      ]
     },
     "execution_count": 16,
     "metadata": {},
     "output_type": "execute_result"
    }
   ],
   "source": [
    "ext_x1.shape"
   ]
  },
  {
   "cell_type": "code",
   "execution_count": 17,
   "metadata": {},
   "outputs": [
    {
     "name": "stdout",
     "output_type": "stream",
     "text": [
      "CPU times: user 31.4 s, sys: 18 s, total: 49.4 s\n",
      "Wall time: 22.3 s\n"
     ]
    }
   ],
   "source": [
    "%%time\n",
    "scaler = StandardScaler()\n",
    "X_t_s = scaler.fit_transform(X_train.astype(np.float64))\n",
    "X_test_s = scaler.fit_transform(X_test.astype(np.float64))\n",
    "ext_xs = scaler.fit_transform(ext_x1.astype(np.float64))"
   ]
  },
  {
   "cell_type": "markdown",
   "metadata": {},
   "source": [
    "# SGDClassifier"
   ]
  },
  {
   "cell_type": "markdown",
   "metadata": {},
   "source": [
    "SGDClassifier Before data augmentation"
   ]
  },
  {
   "cell_type": "code",
   "execution_count": 21,
   "metadata": {},
   "outputs": [],
   "source": [
    "# %%time\n",
    "# sgd_clf = SGDClassifier(random_state=42,n_jobs=-1)\n",
    "#  y_t_p = cross_val_predict(sgd_clf, X_t_s, y_train, cv=3)"
   ]
  },
  {
   "cell_type": "code",
   "execution_count": 20,
   "metadata": {},
   "outputs": [
    {
     "name": "stderr",
     "output_type": "stream",
     "text": [
      "/opt/conda/envs/Python36/lib/python3.6/site-packages/sklearn/linear_model/stochastic_gradient.py:166: FutureWarning: max_iter and tol parameters have been added in SGDClassifier in 0.19. If both are left unset, they default to max_iter=5 and tol=None. If tol is not None, max_iter defaults to max_iter=1000. From 0.21, default max_iter will be 1000, and default tol will be 1e-3.\n",
      "  FutureWarning)\n"
     ]
    },
    {
     "name": "stdout",
     "output_type": "stream",
     "text": [
      "CPU times: user 17.7 s, sys: 24 ms, total: 17.7 s\n",
      "Wall time: 6.02 s\n"
     ]
    }
   ],
   "source": [
    "%%time\n",
    "sgd_clf = SGDClassifier(random_state=42,n_jobs=-1)\n",
    "sgd_clf.fit(X_t_s, y_train)\n",
    "y_t_p = sgd_clf.predict(X_t_s[100:1000])"
   ]
  },
  {
   "cell_type": "code",
   "execution_count": 21,
   "metadata": {
    "scrolled": true
   },
   "outputs": [
    {
     "name": "stdout",
     "output_type": "stream",
     "text": [
      " training accuracy  Before data augmentation 0.9033333333333333\n"
     ]
    }
   ],
   "source": [
    "from sklearn.metrics import accuracy_score\n",
    "print(\" training accuracy  Before data augmentation\",str(accuracy_score(y_train[100:1000], y_t_p)))"
   ]
  },
  {
   "cell_type": "code",
   "execution_count": 24,
   "metadata": {
    "scrolled": true
   },
   "outputs": [
    {
     "name": "stdout",
     "output_type": "stream",
     "text": [
      " testing accuracy  Before data augmentation 0.9121\n"
     ]
    }
   ],
   "source": [
    "y_ts_p = sgd_clf.predict(X_test_s)\n",
    "print(\" testing accuracy  Before data augmentation\",str(accuracy_score(y_test, y_ts_p)))"
   ]
  },
  {
   "cell_type": "markdown",
   "metadata": {},
   "source": [
    "### SGDClassifier After data augmentation"
   ]
  },
  {
   "cell_type": "code",
   "execution_count": 22,
   "metadata": {},
   "outputs": [
    {
     "name": "stderr",
     "output_type": "stream",
     "text": [
      "/opt/conda/envs/Python36/lib/python3.6/site-packages/sklearn/linear_model/stochastic_gradient.py:166: FutureWarning: max_iter and tol parameters have been added in SGDClassifier in 0.19. If both are left unset, they default to max_iter=5 and tol=None. If tol is not None, max_iter defaults to max_iter=1000. From 0.21, default max_iter will be 1000, and default tol will be 1e-3.\n",
      "  FutureWarning)\n",
      "/opt/conda/envs/Python36/lib/python3.6/site-packages/sklearn/linear_model/stochastic_gradient.py:166: FutureWarning: max_iter and tol parameters have been added in SGDClassifier in 0.19. If both are left unset, they default to max_iter=5 and tol=None. If tol is not None, max_iter defaults to max_iter=1000. From 0.21, default max_iter will be 1000, and default tol will be 1e-3.\n",
      "  FutureWarning)\n",
      "/opt/conda/envs/Python36/lib/python3.6/site-packages/sklearn/linear_model/stochastic_gradient.py:166: FutureWarning: max_iter and tol parameters have been added in SGDClassifier in 0.19. If both are left unset, they default to max_iter=5 and tol=None. If tol is not None, max_iter defaults to max_iter=1000. From 0.21, default max_iter will be 1000, and default tol will be 1e-3.\n",
      "  FutureWarning)\n"
     ]
    },
    {
     "name": "stdout",
     "output_type": "stream",
     "text": [
      "CPU times: user 1min 12s, sys: 3.29 s, total: 1min 16s\n",
      "Wall time: 28.5 s\n"
     ]
    }
   ],
   "source": [
    "# %%time\n",
    "# sgd_clf_ext = SGDClassifier(random_state=42,n_jobs=-1)\n",
    "# ext_y_t_p = cross_val_predict(sgd_clf_ext, ext_xs, ext_y1, cv=3)"
   ]
  },
  {
   "cell_type": "code",
   "execution_count": 25,
   "metadata": {},
   "outputs": [
    {
     "name": "stderr",
     "output_type": "stream",
     "text": [
      "/opt/conda/envs/Python36/lib/python3.6/site-packages/sklearn/linear_model/stochastic_gradient.py:166: FutureWarning: max_iter and tol parameters have been added in SGDClassifier in 0.19. If both are left unset, they default to max_iter=5 and tol=None. If tol is not None, max_iter defaults to max_iter=1000. From 0.21, default max_iter will be 1000, and default tol will be 1e-3.\n",
      "  FutureWarning)\n"
     ]
    },
    {
     "name": "stdout",
     "output_type": "stream",
     "text": [
      "CPU times: user 1min 32s, sys: 164 ms, total: 1min 32s\n",
      "Wall time: 29.7 s\n"
     ]
    }
   ],
   "source": [
    "%%time\n",
    "sgd_clf_ext = SGDClassifier(random_state=42,n_jobs=-1)\n",
    "sgd_clf_ext.fit(ext_xs, ext_y1)\n",
    "ext_y_t_p = sgd_clf_ext.predict(ext_xs[1400:10000])"
   ]
  },
  {
   "cell_type": "code",
   "execution_count": 26,
   "metadata": {
    "scrolled": true
   },
   "outputs": [
    {
     "name": "stdout",
     "output_type": "stream",
     "text": [
      "training accuracy After data augmentation 0.9197674418604651\n"
     ]
    }
   ],
   "source": [
    "print(\"training accuracy After data augmentation\",str(accuracy_score(ext_y1[1400:10000], ext_y_t_p)))"
   ]
  },
  {
   "cell_type": "code",
   "execution_count": 45,
   "metadata": {
    "scrolled": true
   },
   "outputs": [
    {
     "name": "stdout",
     "output_type": "stream",
     "text": [
      " testing accuracy  After data augmentation 0.915\n"
     ]
    }
   ],
   "source": [
    "y_ts_p_ext = sgd_clf_ext.predict(X_test_s)\n",
    "print(\" testing accuracy  After data augmentation\",str(accuracy_score(y_test, y_ts_p_ext)))"
   ]
  },
  {
   "cell_type": "markdown",
   "metadata": {},
   "source": [
    "# RandomForestClassifier\n"
   ]
  },
  {
   "cell_type": "code",
   "execution_count": 29,
   "metadata": {},
   "outputs": [
    {
     "name": "stdout",
     "output_type": "stream",
     "text": [
      "CPU times: user 32 ms, sys: 12 ms, total: 44 ms\n",
      "Wall time: 40.3 ms\n"
     ]
    }
   ],
   "source": [
    "%%time\n",
    "from sklearn.ensemble import RandomForestClassifier\n",
    "# forest_clf = RandomForestClassifier(random_state=42)\n",
    "# forest_clf.fit(X_t_s,y_train)"
   ]
  },
  {
   "cell_type": "code",
   "execution_count": 25,
   "metadata": {},
   "outputs": [
    {
     "name": "stderr",
     "output_type": "stream",
     "text": [
      "/opt/conda/envs/Python36/lib/python3.6/site-packages/sklearn/ensemble/forest.py:246: FutureWarning: The default value of n_estimators will change from 10 in version 0.20 to 100 in 0.22.\n",
      "  \"10 in version 0.20 to 100 in 0.22.\", FutureWarning)\n",
      "/opt/conda/envs/Python36/lib/python3.6/site-packages/sklearn/ensemble/forest.py:246: FutureWarning: The default value of n_estimators will change from 10 in version 0.20 to 100 in 0.22.\n",
      "  \"10 in version 0.20 to 100 in 0.22.\", FutureWarning)\n",
      "/opt/conda/envs/Python36/lib/python3.6/site-packages/sklearn/ensemble/forest.py:246: FutureWarning: The default value of n_estimators will change from 10 in version 0.20 to 100 in 0.22.\n",
      "  \"10 in version 0.20 to 100 in 0.22.\", FutureWarning)\n"
     ]
    },
    {
     "name": "stdout",
     "output_type": "stream",
     "text": [
      "CPU times: user 10.3 s, sys: 1.26 s, total: 11.6 s\n",
      "Wall time: 10 s\n"
     ]
    }
   ],
   "source": [
    "# %%time\n",
    "# forest_clf = RandomForestClassifier(random_state=42,n_jobs=-1)\n",
    "# cc=cross_val_score(forest_clf,X_t_s,y_train, cv=3, scoring=\"accuracy\")"
   ]
  },
  {
   "cell_type": "code",
   "execution_count": 26,
   "metadata": {},
   "outputs": [
    {
     "name": "stdout",
     "output_type": "stream",
     "text": [
      "accuracy Before data augmentation 0.9413834445747166\n"
     ]
    }
   ],
   "source": [
    "# print(\"accuracy Before data augmentation\",str(np.mean(cc)))"
   ]
  },
  {
   "cell_type": "code",
   "execution_count": 38,
   "metadata": {},
   "outputs": [
    {
     "name": "stderr",
     "output_type": "stream",
     "text": [
      "/opt/conda/envs/Python36/lib/python3.6/site-packages/sklearn/ensemble/forest.py:246: FutureWarning: The default value of n_estimators will change from 10 in version 0.20 to 100 in 0.22.\n",
      "  \"10 in version 0.20 to 100 in 0.22.\", FutureWarning)\n"
     ]
    },
    {
     "name": "stdout",
     "output_type": "stream",
     "text": [
      "CPU times: user 16.3 s, sys: 8 ms, total: 16.3 s\n",
      "Wall time: 5.6 s\n"
     ]
    }
   ],
   "source": [
    "%%time\n",
    "forest_clf = RandomForestClassifier(random_state=42,n_jobs=-1)\n",
    "forest_clf.fit(X_t_s, y_train)\n",
    "y_f_t_p = forest_clf.predict(X_t_s[100:2000])"
   ]
  },
  {
   "cell_type": "code",
   "execution_count": 39,
   "metadata": {
    "scrolled": true
   },
   "outputs": [
    {
     "name": "stdout",
     "output_type": "stream",
     "text": [
      "training accuracy Before data augmentation 0.9994736842105263\n"
     ]
    }
   ],
   "source": [
    "print(\"training accuracy Before data augmentation\",str(accuracy_score(ext_y1[100:2000], y_f_t_p)))"
   ]
  },
  {
   "cell_type": "code",
   "execution_count": 44,
   "metadata": {
    "scrolled": true
   },
   "outputs": [
    {
     "name": "stdout",
     "output_type": "stream",
     "text": [
      " testing accuracy  Before data augmentation 0.8765\n"
     ]
    }
   ],
   "source": [
    "y_fts_p = forest_clf.predict(X_test_s)\n",
    "print(\" testing accuracy  Before data augmentation\",str(accuracy_score(y_test, y_fts_p)))"
   ]
  },
  {
   "cell_type": "markdown",
   "metadata": {},
   "source": [
    "### RandomForestClassifier After data augmentation"
   ]
  },
  {
   "cell_type": "code",
   "execution_count": 27,
   "metadata": {},
   "outputs": [
    {
     "name": "stderr",
     "output_type": "stream",
     "text": [
      "/opt/conda/envs/Python36/lib/python3.6/site-packages/sklearn/ensemble/forest.py:246: FutureWarning: The default value of n_estimators will change from 10 in version 0.20 to 100 in 0.22.\n",
      "  \"10 in version 0.20 to 100 in 0.22.\", FutureWarning)\n",
      "/opt/conda/envs/Python36/lib/python3.6/site-packages/sklearn/ensemble/forest.py:246: FutureWarning: The default value of n_estimators will change from 10 in version 0.20 to 100 in 0.22.\n",
      "  \"10 in version 0.20 to 100 in 0.22.\", FutureWarning)\n",
      "/opt/conda/envs/Python36/lib/python3.6/site-packages/sklearn/ensemble/forest.py:246: FutureWarning: The default value of n_estimators will change from 10 in version 0.20 to 100 in 0.22.\n",
      "  \"10 in version 0.20 to 100 in 0.22.\", FutureWarning)\n"
     ]
    },
    {
     "name": "stdout",
     "output_type": "stream",
     "text": [
      "CPU times: user 14.8 s, sys: 6.17 s, total: 20.9 s\n",
      "Wall time: 39.8 s\n"
     ]
    }
   ],
   "source": [
    "# %%time\n",
    "# forest_clf_exd = RandomForestClassifier(random_state=42,n_jobs=-1)\n",
    "# cc_ext=cross_val_score(forest_clf_exd,ext_xs,ext_y1, cv=3, scoring=\"accuracy\")"
   ]
  },
  {
   "cell_type": "code",
   "execution_count": 28,
   "metadata": {},
   "outputs": [
    {
     "name": "stdout",
     "output_type": "stream",
     "text": [
      "accuracy After data augmentation 0.9538132251936576\n"
     ]
    }
   ],
   "source": [
    "# print(\"accuracy After data augmentation\",str(np.mean(cc_ext)))"
   ]
  },
  {
   "cell_type": "code",
   "execution_count": 41,
   "metadata": {},
   "outputs": [
    {
     "name": "stderr",
     "output_type": "stream",
     "text": [
      "/opt/conda/envs/Python36/lib/python3.6/site-packages/sklearn/ensemble/forest.py:246: FutureWarning: The default value of n_estimators will change from 10 in version 0.20 to 100 in 0.22.\n",
      "  \"10 in version 0.20 to 100 in 0.22.\", FutureWarning)\n"
     ]
    },
    {
     "name": "stdout",
     "output_type": "stream",
     "text": [
      "CPU times: user 3min 2s, sys: 1.85 s, total: 3min 4s\n",
      "Wall time: 59.8 s\n"
     ]
    }
   ],
   "source": [
    "%%time\n",
    "forest_clf_exd = RandomForestClassifier(random_state=42,n_jobs=-1)\n",
    "forest_clf_exd.fit(ext_xs, ext_y1)\n",
    "y_f_t_p_ext = forest_clf_exd.predict(ext_xs[100:2000])"
   ]
  },
  {
   "cell_type": "code",
   "execution_count": 42,
   "metadata": {},
   "outputs": [
    {
     "name": "stdout",
     "output_type": "stream",
     "text": [
      "training accuracy After data augmentation 0.9994736842105263\n"
     ]
    }
   ],
   "source": [
    "print(\"training accuracy After data augmentation\",str(accuracy_score(ext_y1[100:2000], y_f_t_p_ext)))"
   ]
  },
  {
   "cell_type": "code",
   "execution_count": 46,
   "metadata": {},
   "outputs": [
    {
     "name": "stdout",
     "output_type": "stream",
     "text": [
      "testing accuracy After data augmentation 0.893\n"
     ]
    }
   ],
   "source": [
    "y_fts_p_ext = forest_clf_exd.predict(X_test_s)\n",
    "print(\"testing accuracy After data augmentation\",str(accuracy_score(y_test, y_fts_p_ext)))"
   ]
  },
  {
   "cell_type": "markdown",
   "metadata": {},
   "source": [
    "#  k-nearest neighbors"
   ]
  },
  {
   "cell_type": "code",
   "execution_count": 29,
   "metadata": {},
   "outputs": [
    {
     "name": "stdout",
     "output_type": "stream",
     "text": [
      "accuracy Before data augmentation 0.9403669636870157\n",
      "CPU times: user 52.4 s, sys: 1.24 s, total: 53.7 s\n",
      "Wall time: 24min 6s\n"
     ]
    }
   ],
   "source": [
    "# %%time\n",
    "# knn_clf = KNeighborsClassifier(algorithm='auto', leaf_size=30, metric='minkowski',\n",
    "#                      metric_params=None, n_jobs=-1, n_neighbors=5, p=2,\n",
    "#                      weights='uniform')\n",
    "# # knn_clf.fit(X_t_s,y_train)\n",
    "# ck=cross_val_score(knn_clf,X_t_s,y_train, cv=3, scoring=\"accuracy\")\n",
    "# print(\"accuracy Before data augmentation\",str(np.mean(ck)))"
   ]
  },
  {
   "cell_type": "code",
   "execution_count": 50,
   "metadata": {},
   "outputs": [
    {
     "name": "stdout",
     "output_type": "stream",
     "text": [
      "CPU times: user 14min 31s, sys: 1.13 s, total: 14min 32s\n",
      "Wall time: 6min\n"
     ]
    }
   ],
   "source": [
    "%%time\n",
    "from sklearn.model_selection import GridSearchCV\n",
    "param_grid = [{'weights': [\"uniform\", \"distance\"], 'n_neighbors': [3, 4, 5]}]\n",
    "knn_clf = KNeighborsClassifier(n_jobs=-1)\n",
    "# grid_search = GridSearchCV(knn_clf, param_grid, cv=3, verbose=3)\n",
    "knn_clf.fit(X_t_s,y_train)\n",
    "y_k_pred = knn_clf.predict(X_t_s[500:3000])"
   ]
  },
  {
   "cell_type": "code",
   "execution_count": 51,
   "metadata": {},
   "outputs": [
    {
     "name": "stdout",
     "output_type": "stream",
     "text": [
      "training accuracy Before data augmentation 0.958\n"
     ]
    }
   ],
   "source": [
    "print(\"training accuracy Before data augmentation\",str(accuracy_score(y_train[500:3000], y_k_pred)))"
   ]
  },
  {
   "cell_type": "code",
   "execution_count": 52,
   "metadata": {},
   "outputs": [
    {
     "name": "stdout",
     "output_type": "stream",
     "text": [
      "testing accuracy Before data augmentation 0.9423\n",
      "CPU times: user 50min 12s, sys: 3.67 s, total: 50min 15s\n",
      "Wall time: 13min 21s\n"
     ]
    }
   ],
   "source": [
    "%%time\n",
    "y_ks_pred = knn_clf.predict(X_test_s)\n",
    "print(\"testing accuracy Before data augmentation\",str(accuracy_score(y_test, y_ks_pred)))"
   ]
  },
  {
   "cell_type": "markdown",
   "metadata": {},
   "source": [
    "### k-nearest neighbors After data augmentation"
   ]
  },
  {
   "cell_type": "code",
   "execution_count": null,
   "metadata": {},
   "outputs": [
    {
     "name": "stderr",
     "output_type": "stream",
     "text": [
      "/opt/conda/envs/Python36/lib/python3.6/site-packages/sklearn/externals/joblib/externals/loky/process_executor.py:706: UserWarning: A worker stopped while some jobs were given to the executor. This can be caused by a too short worker timeout or by a memory leak.\n",
      "  \"timeout or by a memory leak.\", UserWarning\n"
     ]
    }
   ],
   "source": [
    "# %%time\n",
    "# knn_clf_ext = KNeighborsClassifier(algorithm='auto', leaf_size=30, metric='minkowski',\n",
    "#                      metric_params=None, n_jobs=-1, n_neighbors=5, p=2,\n",
    "#                      weights='uniform')\n",
    "# ck_e=cross_val_score(knn_clf_ext,ext_xs,ext_y1, cv=3, scoring=\"accuracy\")\n",
    "# print(\"accuracy After data augmentation\",str(np.mean(ck_e)))"
   ]
  },
  {
   "cell_type": "code",
   "execution_count": 53,
   "metadata": {},
   "outputs": [
    {
     "name": "stdout",
     "output_type": "stream",
     "text": [
      "CPU times: user 2h 40min 14s, sys: 14.9 s, total: 2h 40min 29s\n",
      "Wall time: 1h 53min 56s\n"
     ]
    }
   ],
   "source": [
    "%%time\n",
    "knn_clf_ext = KNeighborsClassifier(n_jobs=-1)\n",
    "knn_clf_ext.fit(ext_xs, ext_y1)\n",
    "y_k_pred_ext = knn_clf_ext.predict(ext_xs[500:3000])"
   ]
  },
  {
   "cell_type": "code",
   "execution_count": 54,
   "metadata": {},
   "outputs": [
    {
     "name": "stdout",
     "output_type": "stream",
     "text": [
      "training accuracy After data augmentation 0.9852\n"
     ]
    }
   ],
   "source": [
    "print(\"training accuracy After data augmentation\",str(accuracy_score(ext_y1[500:3000], y_k_pred_ext)))"
   ]
  },
  {
   "cell_type": "code",
   "execution_count": 78,
   "metadata": {},
   "outputs": [
    {
     "name": "stdout",
     "output_type": "stream",
     "text": [
      "testing accuracy Before data augmentation 0.9344827586206896\n",
      "CPU times: user 37min 40s, sys: 3.06 s, total: 37min 43s\n",
      "Wall time: 9min 28s\n"
     ]
    }
   ],
   "source": [
    "%%time\n",
    "y_ks_pred_ext = knn_clf_ext.predict(X_test_s[20:600])\n",
    "print(\"testing accuracy Before data augmentation\",str(accuracy_score(y_test[20:600], y_ks_pred_ext)))"
   ]
  },
  {
   "cell_type": "code",
   "execution_count": 79,
   "metadata": {},
   "outputs": [],
   "source": [
    "import dill\n",
    "dill.dump_session('assi.db')"
   ]
  },
  {
   "cell_type": "code",
   "execution_count": null,
   "metadata": {},
   "outputs": [],
   "source": []
  }
 ],
 "metadata": {
  "kernelspec": {
   "display_name": "Python 3",
   "language": "python",
   "name": "python3"
  },
  "language_info": {
   "codemirror_mode": {
    "name": "ipython",
    "version": 3
   },
   "file_extension": ".py",
   "mimetype": "text/x-python",
   "name": "python",
   "nbconvert_exporter": "python",
   "pygments_lexer": "ipython3",
   "version": "3.8.2"
  }
 },
 "nbformat": 4,
 "nbformat_minor": 1
}
